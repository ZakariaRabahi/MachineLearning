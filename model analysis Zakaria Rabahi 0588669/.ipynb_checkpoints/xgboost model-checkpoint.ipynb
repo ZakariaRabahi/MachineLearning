{
 "cells": [
  {
   "cell_type": "markdown",
   "id": "66ff71a8",
   "metadata": {},
   "source": [
    "# XGBoost Model Analysis\n",
    "\n",
    "In this notebook, I develop and evaluate an XGBoost model to predict the target variable using the provided dataset. The notebook follows a structured approach, including data preprocessing, model training, and evaluation. The objective is to explore how XGBoost performs on this dataset, compare it with other models, and analyze its performance using various techniques.\n"
   ]
  },
  {
   "cell_type": "code",
   "execution_count": 1,
   "id": "26083cc6",
   "metadata": {},
   "outputs": [
    {
     "name": "stdout",
     "output_type": "stream",
     "text": [
      "Requirement already satisfied: bayesian-optimization in c:\\users\\zraba\\appdata\\roaming\\python\\python311\\site-packages (1.5.1)\n",
      "Requirement already satisfied: colorama<0.5.0,>=0.4.6 in c:\\users\\zraba\\anaconda3\\lib\\site-packages (from bayesian-optimization) (0.4.6)\n",
      "Requirement already satisfied: numpy>=1.25 in c:\\users\\zraba\\anaconda3\\lib\\site-packages (from bayesian-optimization) (1.26.4)\n",
      "Requirement already satisfied: scikit-learn<2.0.0,>=1.0.0 in c:\\users\\zraba\\anaconda3\\lib\\site-packages (from bayesian-optimization) (1.3.0)\n",
      "Requirement already satisfied: scipy<2.0.0,>=1.0.0 in c:\\users\\zraba\\anaconda3\\lib\\site-packages (from bayesian-optimization) (1.11.4)\n",
      "Requirement already satisfied: joblib>=1.1.1 in c:\\users\\zraba\\anaconda3\\lib\\site-packages (from scikit-learn<2.0.0,>=1.0.0->bayesian-optimization) (1.2.0)\n",
      "Requirement already satisfied: threadpoolctl>=2.0.0 in c:\\users\\zraba\\anaconda3\\lib\\site-packages (from scikit-learn<2.0.0,>=1.0.0->bayesian-optimization) (2.2.0)\n"
     ]
    }
   ],
   "source": [
    "!pip install --user bayesian-optimization\n"
   ]
  },
  {
   "cell_type": "markdown",
   "id": "d6c52ef0",
   "metadata": {},
   "source": [
    "## Why Use Bayesian Optimization for Hyperparameter Tuning?\n",
    "\n",
    "In this project, I aim to optimize the performance of our XGBoost model by fine-tuning its hyperparameters. Traditionally, methods like GridSearchCV or RandomizedSearchCV are used for this purpose. While these methods are effective, they come with certain limitations. GridSearchCV, for instance, performs an exhaustive search over a specified parameter grid, which can be computationally expensive and time-consuming. On the other hand, RandomizedSearchCV samples a fixed number of parameter settings, but it might miss the optimal combination if the search space is vast.\n",
    "\n",
    "To overcome these challenges, i decided to use **Bayesian Optimization** for hyperparameter tuning. Unlike the traditional methods, Bayesian Optimization doesn't rely on brute-force search. Instead, it uses a probabilistic model to intelligently explore the parameter space, focusing on areas that are more likely to yield better results. This approach allows us to find the optimal hyperparameters more efficiently, making it especially valuable when dealing with complex models like XGBoost that have many parameters to tune.\n",
    "\n",
    "By using Bayesian Optimization, i hope to improve our model's performance by finding a set of hyperparameters that better generalize to unseen data. This method not only saves time but also increases the likelihood of discovering high-performing configurations that might be overlooked by simpler search techniques. In summary, Bayesian Optimization provides a more strategic and efficient way to enhance our model, which is crucial for achieving the best possible predictive accuracy in our project.\n"
   ]
  },
  {
   "cell_type": "code",
   "execution_count": 2,
   "id": "d4217c26",
   "metadata": {},
   "outputs": [],
   "source": [
    "import pandas as pd\n",
    "import numpy as np\n",
    "from sklearn.model_selection import train_test_split, GridSearchCV, RandomizedSearchCV, cross_val_score, learning_curve\n",
    "from sklearn.metrics import mean_squared_error, r2_score, mean_absolute_error\n",
    "import matplotlib.pyplot as plt\n",
    "import seaborn as sns\n",
    "import time\n",
    "import xgboost as xgb\n",
    "from sklearn.inspection import permutation_importance\n",
    "\n",
    "\n",
    "# Load train and test data\n",
    "train_data = pd.read_csv('train.csv')\n",
    "test_data = pd.read_csv('test.csv')\n",
    "\n",
    "# Define the target column\n",
    "target_column = 'Gokart rental count'  # Replace with your actual target column name\n"
   ]
  },
  {
   "cell_type": "markdown",
   "id": "1222e59a",
   "metadata": {},
   "source": [
    "## Data Preprocessing\n",
    "\n",
    "In this section, I handle missing values, encode categorical variables, and prepare the dataset for the XGBoost model. These preprocessing steps are crucial for ensuring that the data is in the correct format for model training.\n"
   ]
  },
  {
   "cell_type": "code",
   "execution_count": 3,
   "id": "878427e0",
   "metadata": {},
   "outputs": [],
   "source": [
    "# Identify numeric columns, excluding the target column\n",
    "numeric_columns = train_data.select_dtypes(include=[np.number]).columns\n",
    "numeric_columns = numeric_columns.drop(target_column, errors='ignore')\n",
    "\n",
    "# Fill missing values in numeric columns\n",
    "train_data[numeric_columns] = train_data[numeric_columns].fillna(train_data[numeric_columns].median())\n",
    "test_data[numeric_columns] = test_data[numeric_columns].fillna(train_data[numeric_columns].median())\n",
    "\n",
    "# Identify categorical columns and date columns\n",
    "categorical_columns = train_data.select_dtypes(include=['object']).columns\n",
    "\n",
    "# Convert date columns to datetime format and extract useful features\n",
    "for col in categorical_columns:\n",
    "    if \"date\" in col.lower():\n",
    "        train_data[col] = pd.to_datetime(train_data[col], dayfirst=True)\n",
    "        train_data[col + '_year'] = train_data[col].dt.year\n",
    "        train_data[col + '_month'] = train_data[col].dt.month\n",
    "        train_data[col + '_day'] = train_data[col].dt.day\n",
    "        train_data = train_data.drop(columns=[col])\n",
    "\n",
    "        test_data[col] = pd.to_datetime(test_data[col], dayfirst=True)\n",
    "        test_data[col + '_year'] = test_data[col].dt.year\n",
    "        test_data[col + '_month'] = test_data[col].dt.month\n",
    "        test_data[col + '_day'] = test_data[col].dt.day\n",
    "        test_data = test_data.drop(columns=[col])\n",
    "\n",
    "# One-hot encode categorical variables\n",
    "train_data = pd.get_dummies(train_data, drop_first=True)\n",
    "test_data = pd.get_dummies(test_data, drop_first=True)\n",
    "\n",
    "# Ensure train_data and test_data have the same columns\n",
    "test_data = test_data.reindex(columns=train_data.columns, fill_value=0)\n",
    "\n",
    "# Split the train_data into features and target\n",
    "X = train_data.drop(columns=[target_column])\n",
    "y = train_data[target_column]\n",
    "\n",
    "# Split the data into training and validation sets\n",
    "X_train, X_val, y_train, y_val = train_test_split(X, y, test_size=0.2, random_state=42)\n"
   ]
  },
  {
   "cell_type": "markdown",
   "id": "c658535a",
   "metadata": {},
   "source": [
    "## Model Training and Hyperparameter Tuning\n",
    "\n",
    "### 3.1 Hyperparameter Tuning with RandomizedSearchCV\n",
    "\n",
    "Hyperparameter tuning is a critical step in optimizing machine learning models. While GridSearchCV exhaustively searches through a specified parameter grid, it can be computationally expensive. RandomizedSearchCV offers a balance between exploration and efficiency, especially with large parameter spaces.\n"
   ]
  },
  {
   "cell_type": "code",
   "execution_count": 4,
   "id": "2305f11d",
   "metadata": {},
   "outputs": [
    {
     "name": "stdout",
     "output_type": "stream",
     "text": [
      "|   iter    |  target   | colsam... |   gamma   | learni... | max_depth | min_ch... | n_esti... | subsample |\n",
      "-------------------------------------------------------------------------------------------------------------\n",
      "| \u001b[39m1        \u001b[39m | \u001b[39m-6.252e+0\u001b[39m | \u001b[39m0.6873   \u001b[39m | \u001b[39m0.9507   \u001b[39m | \u001b[39m0.2223   \u001b[39m | \u001b[39m8.388    \u001b[39m | \u001b[39m2.404    \u001b[39m | \u001b[39m240.4    \u001b[39m | \u001b[39m0.529    \u001b[39m |\n"
     ]
    },
    {
     "name": "stderr",
     "output_type": "stream",
     "text": [
      "C:\\Users\\zraba\\anaconda3\\Lib\\site-packages\\xgboost\\sklearn.py:835: UserWarning: `early_stopping_rounds` in `fit` method is deprecated for better compatibility with scikit-learn, use `early_stopping_rounds` in constructor or`set_params` instead.\n",
      "  warnings.warn(\n",
      "C:\\Users\\zraba\\anaconda3\\Lib\\site-packages\\xgboost\\sklearn.py:835: UserWarning: `early_stopping_rounds` in `fit` method is deprecated for better compatibility with scikit-learn, use `early_stopping_rounds` in constructor or`set_params` instead.\n",
      "  warnings.warn(\n"
     ]
    },
    {
     "name": "stdout",
     "output_type": "stream",
     "text": [
      "| \u001b[35m2        \u001b[39m | \u001b[35m-5.823e+0\u001b[39m | \u001b[35m0.9331   \u001b[39m | \u001b[35m0.6011   \u001b[39m | \u001b[35m0.2153   \u001b[39m | \u001b[35m3.185    \u001b[39m | \u001b[35m9.729    \u001b[39m | \u001b[35m849.2    \u001b[39m | \u001b[35m0.6062   \u001b[39m |\n",
      "| \u001b[35m3        \u001b[39m | \u001b[35m-4.991e+0\u001b[39m | \u001b[35m0.5909   \u001b[39m | \u001b[35m0.1834   \u001b[39m | \u001b[35m0.09823  \u001b[39m | \u001b[35m7.723    \u001b[39m | \u001b[35m4.888    \u001b[39m | \u001b[35m362.1    \u001b[39m | \u001b[35m0.8059   \u001b[39m |\n"
     ]
    },
    {
     "name": "stderr",
     "output_type": "stream",
     "text": [
      "C:\\Users\\zraba\\anaconda3\\Lib\\site-packages\\xgboost\\sklearn.py:835: UserWarning: `early_stopping_rounds` in `fit` method is deprecated for better compatibility with scikit-learn, use `early_stopping_rounds` in constructor or`set_params` instead.\n",
      "  warnings.warn(\n",
      "C:\\Users\\zraba\\anaconda3\\Lib\\site-packages\\xgboost\\sklearn.py:835: UserWarning: `early_stopping_rounds` in `fit` method is deprecated for better compatibility with scikit-learn, use `early_stopping_rounds` in constructor or`set_params` instead.\n",
      "  warnings.warn(\n"
     ]
    },
    {
     "name": "stdout",
     "output_type": "stream",
     "text": [
      "| \u001b[39m4        \u001b[39m | \u001b[39m-5.446e+0\u001b[39m | \u001b[39m0.5697   \u001b[39m | \u001b[39m0.2921   \u001b[39m | \u001b[39m0.1162   \u001b[39m | \u001b[39m7.105    \u001b[39m | \u001b[39m8.067    \u001b[39m | \u001b[39m279.7    \u001b[39m | \u001b[39m0.7571   \u001b[39m |\n",
      "| \u001b[39m5        \u001b[39m | \u001b[39m-5.332e+0\u001b[39m | \u001b[39m0.7962   \u001b[39m | \u001b[39m0.04645  \u001b[39m | \u001b[39m0.1862   \u001b[39m | \u001b[39m4.535    \u001b[39m | \u001b[39m1.585    \u001b[39m | \u001b[39m954.0    \u001b[39m | \u001b[39m0.9828   \u001b[39m |\n"
     ]
    },
    {
     "name": "stderr",
     "output_type": "stream",
     "text": [
      "C:\\Users\\zraba\\anaconda3\\Lib\\site-packages\\xgboost\\sklearn.py:835: UserWarning: `early_stopping_rounds` in `fit` method is deprecated for better compatibility with scikit-learn, use `early_stopping_rounds` in constructor or`set_params` instead.\n",
      "  warnings.warn(\n",
      "C:\\Users\\zraba\\anaconda3\\Lib\\site-packages\\xgboost\\sklearn.py:835: UserWarning: `early_stopping_rounds` in `fit` method is deprecated for better compatibility with scikit-learn, use `early_stopping_rounds` in constructor or`set_params` instead.\n",
      "  warnings.warn(\n"
     ]
    },
    {
     "name": "stdout",
     "output_type": "stream",
     "text": [
      "| \u001b[35m6        \u001b[39m | \u001b[35m-4.825e+0\u001b[39m | \u001b[35m0.9042   \u001b[39m | \u001b[35m0.3046   \u001b[39m | \u001b[35m0.03832  \u001b[39m | \u001b[35m9.158    \u001b[39m | \u001b[35m4.961    \u001b[39m | \u001b[35m209.8    \u001b[39m | \u001b[35m0.7476   \u001b[39m |\n"
     ]
    },
    {
     "name": "stderr",
     "output_type": "stream",
     "text": [
      "C:\\Users\\zraba\\anaconda3\\Lib\\site-packages\\xgboost\\sklearn.py:835: UserWarning: `early_stopping_rounds` in `fit` method is deprecated for better compatibility with scikit-learn, use `early_stopping_rounds` in constructor or`set_params` instead.\n",
      "  warnings.warn(\n"
     ]
    },
    {
     "name": "stdout",
     "output_type": "stream",
     "text": [
      "| \u001b[39m7        \u001b[39m | \u001b[39m-5.109e+0\u001b[39m | \u001b[39m0.5172   \u001b[39m | \u001b[39m0.9093   \u001b[39m | \u001b[39m0.08505  \u001b[39m | \u001b[39m8.963    \u001b[39m | \u001b[39m3.805    \u001b[39m | \u001b[39m568.1    \u001b[39m | \u001b[39m0.7734   \u001b[39m |\n",
      "| \u001b[39m8        \u001b[39m | \u001b[39m-5.577e+0\u001b[39m | \u001b[39m0.5924   \u001b[39m | \u001b[39m0.9696   \u001b[39m | \u001b[39m0.2348   \u001b[39m | \u001b[39m11.46    \u001b[39m | \u001b[39m9.053    \u001b[39m | \u001b[39m638.1    \u001b[39m | \u001b[39m0.9609   \u001b[39m |\n"
     ]
    },
    {
     "name": "stderr",
     "output_type": "stream",
     "text": [
      "C:\\Users\\zraba\\anaconda3\\Lib\\site-packages\\xgboost\\sklearn.py:835: UserWarning: `early_stopping_rounds` in `fit` method is deprecated for better compatibility with scikit-learn, use `early_stopping_rounds` in constructor or`set_params` instead.\n",
      "  warnings.warn(\n",
      "C:\\Users\\zraba\\anaconda3\\Lib\\site-packages\\xgboost\\sklearn.py:835: UserWarning: `early_stopping_rounds` in `fit` method is deprecated for better compatibility with scikit-learn, use `early_stopping_rounds` in constructor or`set_params` instead.\n",
      "  warnings.warn(\n"
     ]
    },
    {
     "name": "stdout",
     "output_type": "stream",
     "text": [
      "| \u001b[39m9        \u001b[39m | \u001b[39m-5.382e+0\u001b[39m | \u001b[39m0.5442   \u001b[39m | \u001b[39m0.196    \u001b[39m | \u001b[39m0.02312  \u001b[39m | \u001b[39m5.928    \u001b[39m | \u001b[39m4.498    \u001b[39m | \u001b[39m344.2    \u001b[39m | \u001b[39m0.9144   \u001b[39m |\n",
      "| \u001b[39m10       \u001b[39m | \u001b[39m-5.302e+0\u001b[39m | \u001b[39m0.6784   \u001b[39m | \u001b[39m0.2809   \u001b[39m | \u001b[39m0.1674   \u001b[39m | \u001b[39m4.268    \u001b[39m | \u001b[39m8.22     \u001b[39m | \u001b[39m167.1    \u001b[39m | \u001b[39m0.9934   \u001b[39m |\n"
     ]
    },
    {
     "name": "stderr",
     "output_type": "stream",
     "text": [
      "C:\\Users\\zraba\\anaconda3\\Lib\\site-packages\\xgboost\\sklearn.py:835: UserWarning: `early_stopping_rounds` in `fit` method is deprecated for better compatibility with scikit-learn, use `early_stopping_rounds` in constructor or`set_params` instead.\n",
      "  warnings.warn(\n",
      "C:\\Users\\zraba\\anaconda3\\Lib\\site-packages\\xgboost\\sklearn.py:835: UserWarning: `early_stopping_rounds` in `fit` method is deprecated for better compatibility with scikit-learn, use `early_stopping_rounds` in constructor or`set_params` instead.\n",
      "  warnings.warn(\n"
     ]
    },
    {
     "name": "stdout",
     "output_type": "stream",
     "text": [
      "| \u001b[39m11       \u001b[39m | \u001b[39m-7.736e+0\u001b[39m | \u001b[39m0.5844   \u001b[39m | \u001b[39m0.274    \u001b[39m | \u001b[39m0.2904   \u001b[39m | \u001b[39m11.03    \u001b[39m | \u001b[39m2.914    \u001b[39m | \u001b[39m205.3    \u001b[39m | \u001b[39m0.6818   \u001b[39m |\n"
     ]
    },
    {
     "name": "stderr",
     "output_type": "stream",
     "text": [
      "C:\\Users\\zraba\\anaconda3\\Lib\\site-packages\\xgboost\\sklearn.py:835: UserWarning: `early_stopping_rounds` in `fit` method is deprecated for better compatibility with scikit-learn, use `early_stopping_rounds` in constructor or`set_params` instead.\n",
      "  warnings.warn(\n"
     ]
    },
    {
     "name": "stdout",
     "output_type": "stream",
     "text": [
      "| \u001b[39m12       \u001b[39m | \u001b[39m-5.831e+0\u001b[39m | \u001b[39m0.581    \u001b[39m | \u001b[39m0.4384   \u001b[39m | \u001b[39m0.1381   \u001b[39m | \u001b[39m10.42    \u001b[39m | \u001b[39m1.189    \u001b[39m | \u001b[39m181.6    \u001b[39m | \u001b[39m0.6691   \u001b[39m |\n"
     ]
    },
    {
     "name": "stderr",
     "output_type": "stream",
     "text": [
      "C:\\Users\\zraba\\anaconda3\\Lib\\site-packages\\xgboost\\sklearn.py:835: UserWarning: `early_stopping_rounds` in `fit` method is deprecated for better compatibility with scikit-learn, use `early_stopping_rounds` in constructor or`set_params` instead.\n",
      "  warnings.warn(\n"
     ]
    },
    {
     "name": "stdout",
     "output_type": "stream",
     "text": [
      "| \u001b[39m13       \u001b[39m | \u001b[39m-5.629e+0\u001b[39m | \u001b[39m0.7327   \u001b[39m | \u001b[39m0.8946   \u001b[39m | \u001b[39m0.02366  \u001b[39m | \u001b[39m3.153    \u001b[39m | \u001b[39m5.464    \u001b[39m | \u001b[39m945.1    \u001b[39m | \u001b[39m0.7892   \u001b[39m |\n"
     ]
    },
    {
     "name": "stderr",
     "output_type": "stream",
     "text": [
      "C:\\Users\\zraba\\anaconda3\\Lib\\site-packages\\xgboost\\sklearn.py:835: UserWarning: `early_stopping_rounds` in `fit` method is deprecated for better compatibility with scikit-learn, use `early_stopping_rounds` in constructor or`set_params` instead.\n",
      "  warnings.warn(\n"
     ]
    },
    {
     "name": "stdout",
     "output_type": "stream",
     "text": [
      "| \u001b[39m14       \u001b[39m | \u001b[39m-5.082e+0\u001b[39m | \u001b[39m0.5992   \u001b[39m | \u001b[39m0.7628   \u001b[39m | \u001b[39m0.04716  \u001b[39m | \u001b[39m5.344    \u001b[39m | \u001b[39m1.491    \u001b[39m | \u001b[39m822.1    \u001b[39m | \u001b[39m0.815    \u001b[39m |\n"
     ]
    },
    {
     "name": "stderr",
     "output_type": "stream",
     "text": [
      "C:\\Users\\zraba\\anaconda3\\Lib\\site-packages\\xgboost\\sklearn.py:835: UserWarning: `early_stopping_rounds` in `fit` method is deprecated for better compatibility with scikit-learn, use `early_stopping_rounds` in constructor or`set_params` instead.\n",
      "  warnings.warn(\n"
     ]
    },
    {
     "name": "stdout",
     "output_type": "stream",
     "text": [
      "| \u001b[35m15       \u001b[39m | \u001b[35m-4.733e+0\u001b[39m | \u001b[35m0.9631   \u001b[39m | \u001b[35m0.9847   \u001b[39m | \u001b[35m0.02398  \u001b[39m | \u001b[35m7.631    \u001b[39m | \u001b[35m3.725    \u001b[39m | \u001b[35m951.8    \u001b[39m | \u001b[35m0.5586   \u001b[39m |\n"
     ]
    },
    {
     "name": "stderr",
     "output_type": "stream",
     "text": [
      "C:\\Users\\zraba\\anaconda3\\Lib\\site-packages\\xgboost\\sklearn.py:835: UserWarning: `early_stopping_rounds` in `fit` method is deprecated for better compatibility with scikit-learn, use `early_stopping_rounds` in constructor or`set_params` instead.\n",
      "  warnings.warn(\n"
     ]
    },
    {
     "name": "stdout",
     "output_type": "stream",
     "text": [
      "| \u001b[39m16       \u001b[39m | \u001b[39m-4.908e+0\u001b[39m | \u001b[39m0.9301   \u001b[39m | \u001b[39m0.8048   \u001b[39m | \u001b[39m0.05467  \u001b[39m | \u001b[39m7.047    \u001b[39m | \u001b[39m3.32     \u001b[39m | \u001b[39m952.2    \u001b[39m | \u001b[39m0.638    \u001b[39m |\n"
     ]
    },
    {
     "name": "stderr",
     "output_type": "stream",
     "text": [
      "C:\\Users\\zraba\\anaconda3\\Lib\\site-packages\\xgboost\\sklearn.py:835: UserWarning: `early_stopping_rounds` in `fit` method is deprecated for better compatibility with scikit-learn, use `early_stopping_rounds` in constructor or`set_params` instead.\n",
      "  warnings.warn(\n"
     ]
    },
    {
     "name": "stdout",
     "output_type": "stream",
     "text": [
      "| \u001b[39m17       \u001b[39m | \u001b[39m-4.792e+0\u001b[39m | \u001b[39m1.0      \u001b[39m | \u001b[39m0.977    \u001b[39m | \u001b[39m0.0146   \u001b[39m | \u001b[39m9.938    \u001b[39m | \u001b[39m3.5      \u001b[39m | \u001b[39m952.9    \u001b[39m | \u001b[39m0.6401   \u001b[39m |\n"
     ]
    },
    {
     "name": "stderr",
     "output_type": "stream",
     "text": [
      "C:\\Users\\zraba\\anaconda3\\Lib\\site-packages\\xgboost\\sklearn.py:835: UserWarning: `early_stopping_rounds` in `fit` method is deprecated for better compatibility with scikit-learn, use `early_stopping_rounds` in constructor or`set_params` instead.\n",
      "  warnings.warn(\n"
     ]
    },
    {
     "name": "stdout",
     "output_type": "stream",
     "text": [
      "| \u001b[39m18       \u001b[39m | \u001b[39m-7.56e+04\u001b[39m | \u001b[39m1.0      \u001b[39m | \u001b[39m0.3225   \u001b[39m | \u001b[39m0.01     \u001b[39m | \u001b[39m8.061    \u001b[39m | \u001b[39m6.16     \u001b[39m | \u001b[39m212.5    \u001b[39m | \u001b[39m0.7861   \u001b[39m |\n"
     ]
    },
    {
     "name": "stderr",
     "output_type": "stream",
     "text": [
      "C:\\Users\\zraba\\anaconda3\\Lib\\site-packages\\xgboost\\sklearn.py:835: UserWarning: `early_stopping_rounds` in `fit` method is deprecated for better compatibility with scikit-learn, use `early_stopping_rounds` in constructor or`set_params` instead.\n",
      "  warnings.warn(\n"
     ]
    },
    {
     "name": "stdout",
     "output_type": "stream",
     "text": [
      "| \u001b[39m19       \u001b[39m | \u001b[39m-5.564e+0\u001b[39m | \u001b[39m0.8647   \u001b[39m | \u001b[39m0.9256   \u001b[39m | \u001b[39m0.1995   \u001b[39m | \u001b[39m8.884    \u001b[39m | \u001b[39m2.28     \u001b[39m | \u001b[39m951.7    \u001b[39m | \u001b[39m0.5472   \u001b[39m |\n"
     ]
    },
    {
     "name": "stderr",
     "output_type": "stream",
     "text": [
      "C:\\Users\\zraba\\anaconda3\\Lib\\site-packages\\xgboost\\sklearn.py:835: UserWarning: `early_stopping_rounds` in `fit` method is deprecated for better compatibility with scikit-learn, use `early_stopping_rounds` in constructor or`set_params` instead.\n",
      "  warnings.warn(\n"
     ]
    },
    {
     "name": "stdout",
     "output_type": "stream",
     "text": [
      "| \u001b[39m20       \u001b[39m | \u001b[39m-4.851e+0\u001b[39m | \u001b[39m1.0      \u001b[39m | \u001b[39m0.9229   \u001b[39m | \u001b[39m0.01     \u001b[39m | \u001b[39m8.41     \u001b[39m | \u001b[39m4.508    \u001b[39m | \u001b[39m953.1    \u001b[39m | \u001b[39m0.6928   \u001b[39m |\n"
     ]
    },
    {
     "name": "stderr",
     "output_type": "stream",
     "text": [
      "C:\\Users\\zraba\\anaconda3\\Lib\\site-packages\\xgboost\\sklearn.py:835: UserWarning: `early_stopping_rounds` in `fit` method is deprecated for better compatibility with scikit-learn, use `early_stopping_rounds` in constructor or`set_params` instead.\n",
      "  warnings.warn(\n"
     ]
    },
    {
     "name": "stdout",
     "output_type": "stream",
     "text": [
      "| \u001b[35m21       \u001b[39m | \u001b[35m-4.73e+04\u001b[39m | \u001b[35m1.0      \u001b[39m | \u001b[35m1.0      \u001b[39m | \u001b[35m0.01     \u001b[39m | \u001b[35m9.608    \u001b[39m | \u001b[35m5.179    \u001b[39m | \u001b[35m951.5    \u001b[39m | \u001b[35m0.5      \u001b[39m |\n"
     ]
    },
    {
     "name": "stderr",
     "output_type": "stream",
     "text": [
      "C:\\Users\\zraba\\anaconda3\\Lib\\site-packages\\xgboost\\sklearn.py:835: UserWarning: `early_stopping_rounds` in `fit` method is deprecated for better compatibility with scikit-learn, use `early_stopping_rounds` in constructor or`set_params` instead.\n",
      "  warnings.warn(\n"
     ]
    },
    {
     "name": "stdout",
     "output_type": "stream",
     "text": [
      "| \u001b[39m22       \u001b[39m | \u001b[39m-5.285e+0\u001b[39m | \u001b[39m1.0      \u001b[39m | \u001b[39m0.0      \u001b[39m | \u001b[39m0.01     \u001b[39m | \u001b[39m7.358    \u001b[39m | \u001b[39m5.618    \u001b[39m | \u001b[39m951.1    \u001b[39m | \u001b[39m1.0      \u001b[39m |\n"
     ]
    },
    {
     "name": "stderr",
     "output_type": "stream",
     "text": [
      "C:\\Users\\zraba\\anaconda3\\Lib\\site-packages\\xgboost\\sklearn.py:835: UserWarning: `early_stopping_rounds` in `fit` method is deprecated for better compatibility with scikit-learn, use `early_stopping_rounds` in constructor or`set_params` instead.\n",
      "  warnings.warn(\n"
     ]
    },
    {
     "name": "stdout",
     "output_type": "stream",
     "text": [
      "| \u001b[39m23       \u001b[39m | \u001b[39m-4.815e+0\u001b[39m | \u001b[39m1.0      \u001b[39m | \u001b[39m1.0      \u001b[39m | \u001b[39m0.01     \u001b[39m | \u001b[39m11.13    \u001b[39m | \u001b[39m5.499    \u001b[39m | \u001b[39m953.3    \u001b[39m | \u001b[39m0.5      \u001b[39m |\n"
     ]
    },
    {
     "name": "stderr",
     "output_type": "stream",
     "text": [
      "C:\\Users\\zraba\\anaconda3\\Lib\\site-packages\\xgboost\\sklearn.py:835: UserWarning: `early_stopping_rounds` in `fit` method is deprecated for better compatibility with scikit-learn, use `early_stopping_rounds` in constructor or`set_params` instead.\n",
      "  warnings.warn(\n"
     ]
    },
    {
     "name": "stdout",
     "output_type": "stream",
     "text": [
      "| \u001b[35m24       \u001b[39m | \u001b[35m-4.61e+04\u001b[39m | \u001b[35m1.0      \u001b[39m | \u001b[35m0.0      \u001b[39m | \u001b[35m0.01     \u001b[39m | \u001b[35m10.77    \u001b[39m | \u001b[35m3.876    \u001b[39m | \u001b[35m955.3    \u001b[39m | \u001b[35m0.5      \u001b[39m |\n"
     ]
    },
    {
     "name": "stderr",
     "output_type": "stream",
     "text": [
      "C:\\Users\\zraba\\anaconda3\\Lib\\site-packages\\xgboost\\sklearn.py:835: UserWarning: `early_stopping_rounds` in `fit` method is deprecated for better compatibility with scikit-learn, use `early_stopping_rounds` in constructor or`set_params` instead.\n",
      "  warnings.warn(\n"
     ]
    },
    {
     "name": "stdout",
     "output_type": "stream",
     "text": [
      "| \u001b[39m25       \u001b[39m | \u001b[39m-5.493e+0\u001b[39m | \u001b[39m1.0      \u001b[39m | \u001b[39m1.0      \u001b[39m | \u001b[39m0.3      \u001b[39m | \u001b[39m12.0     \u001b[39m | \u001b[39m2.574    \u001b[39m | \u001b[39m954.6    \u001b[39m | \u001b[39m1.0      \u001b[39m |\n"
     ]
    },
    {
     "name": "stderr",
     "output_type": "stream",
     "text": [
      "C:\\Users\\zraba\\anaconda3\\Lib\\site-packages\\xgboost\\sklearn.py:835: UserWarning: `early_stopping_rounds` in `fit` method is deprecated for better compatibility with scikit-learn, use `early_stopping_rounds` in constructor or`set_params` instead.\n",
      "  warnings.warn(\n"
     ]
    },
    {
     "name": "stdout",
     "output_type": "stream",
     "text": [
      "| \u001b[39m26       \u001b[39m | \u001b[39m-5.207e+0\u001b[39m | \u001b[39m0.5      \u001b[39m | \u001b[39m0.0      \u001b[39m | \u001b[39m0.01     \u001b[39m | \u001b[39m9.822    \u001b[39m | \u001b[39m5.856    \u001b[39m | \u001b[39m955.7    \u001b[39m | \u001b[39m0.5      \u001b[39m |\n"
     ]
    },
    {
     "name": "stderr",
     "output_type": "stream",
     "text": [
      "C:\\Users\\zraba\\anaconda3\\Lib\\site-packages\\xgboost\\sklearn.py:835: UserWarning: `early_stopping_rounds` in `fit` method is deprecated for better compatibility with scikit-learn, use `early_stopping_rounds` in constructor or`set_params` instead.\n",
      "  warnings.warn(\n"
     ]
    },
    {
     "name": "stdout",
     "output_type": "stream",
     "text": [
      "| \u001b[39m27       \u001b[39m | \u001b[39m-5.291e+0\u001b[39m | \u001b[39m0.5      \u001b[39m | \u001b[39m0.0      \u001b[39m | \u001b[39m0.01     \u001b[39m | \u001b[39m11.94    \u001b[39m | \u001b[39m4.699    \u001b[39m | \u001b[39m951.3    \u001b[39m | \u001b[39m0.5      \u001b[39m |\n"
     ]
    },
    {
     "name": "stderr",
     "output_type": "stream",
     "text": [
      "C:\\Users\\zraba\\anaconda3\\Lib\\site-packages\\xgboost\\sklearn.py:835: UserWarning: `early_stopping_rounds` in `fit` method is deprecated for better compatibility with scikit-learn, use `early_stopping_rounds` in constructor or`set_params` instead.\n",
      "  warnings.warn(\n"
     ]
    },
    {
     "name": "stdout",
     "output_type": "stream",
     "text": [
      "| \u001b[39m28       \u001b[39m | \u001b[39m-4.726e+0\u001b[39m | \u001b[39m1.0      \u001b[39m | \u001b[39m0.0      \u001b[39m | \u001b[39m0.01     \u001b[39m | \u001b[39m8.809    \u001b[39m | \u001b[39m2.794    \u001b[39m | \u001b[39m955.9    \u001b[39m | \u001b[39m0.5      \u001b[39m |\n"
     ]
    },
    {
     "name": "stderr",
     "output_type": "stream",
     "text": [
      "C:\\Users\\zraba\\anaconda3\\Lib\\site-packages\\xgboost\\sklearn.py:835: UserWarning: `early_stopping_rounds` in `fit` method is deprecated for better compatibility with scikit-learn, use `early_stopping_rounds` in constructor or`set_params` instead.\n",
      "  warnings.warn(\n"
     ]
    },
    {
     "name": "stdout",
     "output_type": "stream",
     "text": [
      "| \u001b[39m29       \u001b[39m | \u001b[39m-4.61e+04\u001b[39m | \u001b[39m1.0      \u001b[39m | \u001b[39m0.0      \u001b[39m | \u001b[39m0.01     \u001b[39m | \u001b[39m10.49    \u001b[39m | \u001b[39m3.238    \u001b[39m | \u001b[39m957.9    \u001b[39m | \u001b[39m0.5      \u001b[39m |\n"
     ]
    },
    {
     "name": "stderr",
     "output_type": "stream",
     "text": [
      "C:\\Users\\zraba\\anaconda3\\Lib\\site-packages\\xgboost\\sklearn.py:835: UserWarning: `early_stopping_rounds` in `fit` method is deprecated for better compatibility with scikit-learn, use `early_stopping_rounds` in constructor or`set_params` instead.\n",
      "  warnings.warn(\n"
     ]
    },
    {
     "name": "stdout",
     "output_type": "stream",
     "text": [
      "| \u001b[39m30       \u001b[39m | \u001b[39m-5.102e+0\u001b[39m | \u001b[39m0.5      \u001b[39m | \u001b[39m0.0      \u001b[39m | \u001b[39m0.01     \u001b[39m | \u001b[39m8.802    \u001b[39m | \u001b[39m1.358    \u001b[39m | \u001b[39m958.7    \u001b[39m | \u001b[39m0.5      \u001b[39m |\n"
     ]
    },
    {
     "name": "stderr",
     "output_type": "stream",
     "text": [
      "C:\\Users\\zraba\\anaconda3\\Lib\\site-packages\\xgboost\\sklearn.py:835: UserWarning: `early_stopping_rounds` in `fit` method is deprecated for better compatibility with scikit-learn, use `early_stopping_rounds` in constructor or`set_params` instead.\n",
      "  warnings.warn(\n"
     ]
    },
    {
     "name": "stdout",
     "output_type": "stream",
     "text": [
      "| \u001b[39m31       \u001b[39m | \u001b[39m-5.115e+0\u001b[39m | \u001b[39m1.0      \u001b[39m | \u001b[39m1.0      \u001b[39m | \u001b[39m0.01     \u001b[39m | \u001b[39m8.491    \u001b[39m | \u001b[39m4.312    \u001b[39m | \u001b[39m958.4    \u001b[39m | \u001b[39m1.0      \u001b[39m |\n"
     ]
    },
    {
     "name": "stderr",
     "output_type": "stream",
     "text": [
      "C:\\Users\\zraba\\anaconda3\\Lib\\site-packages\\xgboost\\sklearn.py:835: UserWarning: `early_stopping_rounds` in `fit` method is deprecated for better compatibility with scikit-learn, use `early_stopping_rounds` in constructor or`set_params` instead.\n",
      "  warnings.warn(\n"
     ]
    },
    {
     "name": "stdout",
     "output_type": "stream",
     "text": [
      "| \u001b[39m32       \u001b[39m | \u001b[39m-6.23e+04\u001b[39m | \u001b[39m1.0      \u001b[39m | \u001b[39m0.0      \u001b[39m | \u001b[39m0.3      \u001b[39m | \u001b[39m12.0     \u001b[39m | \u001b[39m5.023    \u001b[39m | \u001b[39m959.2    \u001b[39m | \u001b[39m0.5      \u001b[39m |\n"
     ]
    },
    {
     "name": "stderr",
     "output_type": "stream",
     "text": [
      "C:\\Users\\zraba\\anaconda3\\Lib\\site-packages\\xgboost\\sklearn.py:835: UserWarning: `early_stopping_rounds` in `fit` method is deprecated for better compatibility with scikit-learn, use `early_stopping_rounds` in constructor or`set_params` instead.\n",
      "  warnings.warn(\n"
     ]
    },
    {
     "name": "stdout",
     "output_type": "stream",
     "text": [
      "| \u001b[39m33       \u001b[39m | \u001b[39m-4.878e+0\u001b[39m | \u001b[39m1.0      \u001b[39m | \u001b[39m1.0      \u001b[39m | \u001b[39m0.01     \u001b[39m | \u001b[39m10.46    \u001b[39m | \u001b[39m8.11     \u001b[39m | \u001b[39m951.8    \u001b[39m | \u001b[39m0.5      \u001b[39m |\n"
     ]
    },
    {
     "name": "stderr",
     "output_type": "stream",
     "text": [
      "C:\\Users\\zraba\\anaconda3\\Lib\\site-packages\\xgboost\\sklearn.py:835: UserWarning: `early_stopping_rounds` in `fit` method is deprecated for better compatibility with scikit-learn, use `early_stopping_rounds` in constructor or`set_params` instead.\n",
      "  warnings.warn(\n"
     ]
    },
    {
     "name": "stdout",
     "output_type": "stream",
     "text": [
      "| \u001b[39m34       \u001b[39m | \u001b[39m-4.823e+0\u001b[39m | \u001b[39m1.0      \u001b[39m | \u001b[39m1.0      \u001b[39m | \u001b[39m0.01     \u001b[39m | \u001b[39m10.36    \u001b[39m | \u001b[39m7.393    \u001b[39m | \u001b[39m948.9    \u001b[39m | \u001b[39m0.5      \u001b[39m |\n"
     ]
    },
    {
     "name": "stderr",
     "output_type": "stream",
     "text": [
      "C:\\Users\\zraba\\anaconda3\\Lib\\site-packages\\xgboost\\sklearn.py:835: UserWarning: `early_stopping_rounds` in `fit` method is deprecated for better compatibility with scikit-learn, use `early_stopping_rounds` in constructor or`set_params` instead.\n",
      "  warnings.warn(\n"
     ]
    },
    {
     "name": "stdout",
     "output_type": "stream",
     "text": [
      "| \u001b[39m35       \u001b[39m | \u001b[39m-5.484e+0\u001b[39m | \u001b[39m1.0      \u001b[39m | \u001b[39m1.0      \u001b[39m | \u001b[39m0.3      \u001b[39m | \u001b[39m12.0     \u001b[39m | \u001b[39m9.67     \u001b[39m | \u001b[39m949.5    \u001b[39m | \u001b[39m1.0      \u001b[39m |\n"
     ]
    },
    {
     "name": "stderr",
     "output_type": "stream",
     "text": [
      "C:\\Users\\zraba\\anaconda3\\Lib\\site-packages\\xgboost\\sklearn.py:835: UserWarning: `early_stopping_rounds` in `fit` method is deprecated for better compatibility with scikit-learn, use `early_stopping_rounds` in constructor or`set_params` instead.\n",
      "  warnings.warn(\n"
     ]
    },
    {
     "name": "stdout",
     "output_type": "stream",
     "text": [
      "| \u001b[39m36       \u001b[39m | \u001b[39m-4.73e+04\u001b[39m | \u001b[39m1.0      \u001b[39m | \u001b[39m1.0      \u001b[39m | \u001b[39m0.01     \u001b[39m | \u001b[39m9.169    \u001b[39m | \u001b[39m5.03     \u001b[39m | \u001b[39m948.1    \u001b[39m | \u001b[39m0.5      \u001b[39m |\n"
     ]
    },
    {
     "name": "stderr",
     "output_type": "stream",
     "text": [
      "C:\\Users\\zraba\\anaconda3\\Lib\\site-packages\\xgboost\\sklearn.py:835: UserWarning: `early_stopping_rounds` in `fit` method is deprecated for better compatibility with scikit-learn, use `early_stopping_rounds` in constructor or`set_params` instead.\n",
      "  warnings.warn(\n"
     ]
    },
    {
     "name": "stdout",
     "output_type": "stream",
     "text": [
      "| \u001b[39m37       \u001b[39m | \u001b[39m-4.79e+04\u001b[39m | \u001b[39m1.0      \u001b[39m | \u001b[39m1.0      \u001b[39m | \u001b[39m0.01     \u001b[39m | \u001b[39m10.42    \u001b[39m | \u001b[39m6.25     \u001b[39m | \u001b[39m946.0    \u001b[39m | \u001b[39m0.5      \u001b[39m |\n"
     ]
    },
    {
     "name": "stderr",
     "output_type": "stream",
     "text": [
      "C:\\Users\\zraba\\anaconda3\\Lib\\site-packages\\xgboost\\sklearn.py:835: UserWarning: `early_stopping_rounds` in `fit` method is deprecated for better compatibility with scikit-learn, use `early_stopping_rounds` in constructor or`set_params` instead.\n",
      "  warnings.warn(\n"
     ]
    },
    {
     "name": "stdout",
     "output_type": "stream",
     "text": [
      "| \u001b[39m38       \u001b[39m | \u001b[39m-5.532e+0\u001b[39m | \u001b[39m0.5      \u001b[39m | \u001b[39m1.0      \u001b[39m | \u001b[39m0.01     \u001b[39m | \u001b[39m11.81    \u001b[39m | \u001b[39m4.772    \u001b[39m | \u001b[39m947.5    \u001b[39m | \u001b[39m1.0      \u001b[39m |\n"
     ]
    },
    {
     "name": "stderr",
     "output_type": "stream",
     "text": [
      "C:\\Users\\zraba\\anaconda3\\Lib\\site-packages\\xgboost\\sklearn.py:835: UserWarning: `early_stopping_rounds` in `fit` method is deprecated for better compatibility with scikit-learn, use `early_stopping_rounds` in constructor or`set_params` instead.\n",
      "  warnings.warn(\n"
     ]
    },
    {
     "name": "stdout",
     "output_type": "stream",
     "text": [
      "| \u001b[39m39       \u001b[39m | \u001b[39m-4.865e+0\u001b[39m | \u001b[39m1.0      \u001b[39m | \u001b[39m1.0      \u001b[39m | \u001b[39m0.01     \u001b[39m | \u001b[39m8.162    \u001b[39m | \u001b[39m7.256    \u001b[39m | \u001b[39m947.0    \u001b[39m | \u001b[39m0.5      \u001b[39m |\n",
      "| \u001b[39m40       \u001b[39m | \u001b[39m-5.783e+0\u001b[39m | \u001b[39m1.0      \u001b[39m | \u001b[39m1.0      \u001b[39m | \u001b[39m0.3      \u001b[39m | \u001b[39m8.252    \u001b[39m | \u001b[39m4.609    \u001b[39m | \u001b[39m945.3    \u001b[39m | \u001b[39m0.5      \u001b[39m |\n"
     ]
    },
    {
     "name": "stderr",
     "output_type": "stream",
     "text": [
      "C:\\Users\\zraba\\anaconda3\\Lib\\site-packages\\xgboost\\sklearn.py:835: UserWarning: `early_stopping_rounds` in `fit` method is deprecated for better compatibility with scikit-learn, use `early_stopping_rounds` in constructor or`set_params` instead.\n",
      "  warnings.warn(\n",
      "C:\\Users\\zraba\\anaconda3\\Lib\\site-packages\\xgboost\\sklearn.py:835: UserWarning: `early_stopping_rounds` in `fit` method is deprecated for better compatibility with scikit-learn, use `early_stopping_rounds` in constructor or`set_params` instead.\n",
      "  warnings.warn(\n"
     ]
    },
    {
     "name": "stdout",
     "output_type": "stream",
     "text": [
      "| \u001b[39m41       \u001b[39m | \u001b[39m-4.878e+0\u001b[39m | \u001b[39m1.0      \u001b[39m | \u001b[39m0.0      \u001b[39m | \u001b[39m0.01     \u001b[39m | \u001b[39m10.23    \u001b[39m | \u001b[39m8.59     \u001b[39m | \u001b[39m946.0    \u001b[39m | \u001b[39m0.5      \u001b[39m |\n"
     ]
    },
    {
     "name": "stderr",
     "output_type": "stream",
     "text": [
      "C:\\Users\\zraba\\anaconda3\\Lib\\site-packages\\xgboost\\sklearn.py:835: UserWarning: `early_stopping_rounds` in `fit` method is deprecated for better compatibility with scikit-learn, use `early_stopping_rounds` in constructor or`set_params` instead.\n",
      "  warnings.warn(\n"
     ]
    },
    {
     "name": "stdout",
     "output_type": "stream",
     "text": [
      "| \u001b[39m42       \u001b[39m | \u001b[39m-4.789e+0\u001b[39m | \u001b[39m1.0      \u001b[39m | \u001b[39m1.0      \u001b[39m | \u001b[39m0.01     \u001b[39m | \u001b[39m11.88    \u001b[39m | \u001b[39m7.83     \u001b[39m | \u001b[39m943.8    \u001b[39m | \u001b[39m0.5      \u001b[39m |\n"
     ]
    },
    {
     "name": "stderr",
     "output_type": "stream",
     "text": [
      "C:\\Users\\zraba\\anaconda3\\Lib\\site-packages\\xgboost\\sklearn.py:835: UserWarning: `early_stopping_rounds` in `fit` method is deprecated for better compatibility with scikit-learn, use `early_stopping_rounds` in constructor or`set_params` instead.\n",
      "  warnings.warn(\n"
     ]
    },
    {
     "name": "stdout",
     "output_type": "stream",
     "text": [
      "| \u001b[39m43       \u001b[39m | \u001b[39m-5.236e+0\u001b[39m | \u001b[39m0.5      \u001b[39m | \u001b[39m1.0      \u001b[39m | \u001b[39m0.01     \u001b[39m | \u001b[39m9.411    \u001b[39m | \u001b[39m9.017    \u001b[39m | \u001b[39m943.3    \u001b[39m | \u001b[39m0.5      \u001b[39m |\n"
     ]
    },
    {
     "name": "stderr",
     "output_type": "stream",
     "text": [
      "C:\\Users\\zraba\\anaconda3\\Lib\\site-packages\\xgboost\\sklearn.py:835: UserWarning: `early_stopping_rounds` in `fit` method is deprecated for better compatibility with scikit-learn, use `early_stopping_rounds` in constructor or`set_params` instead.\n",
      "  warnings.warn(\n"
     ]
    },
    {
     "name": "stdout",
     "output_type": "stream",
     "text": [
      "| \u001b[39m44       \u001b[39m | \u001b[39m-5.508e+0\u001b[39m | \u001b[39m0.5      \u001b[39m | \u001b[39m0.0      \u001b[39m | \u001b[39m0.01     \u001b[39m | \u001b[39m10.59    \u001b[39m | \u001b[39m1.793    \u001b[39m | \u001b[39m956.8    \u001b[39m | \u001b[39m1.0      \u001b[39m |\n"
     ]
    },
    {
     "name": "stderr",
     "output_type": "stream",
     "text": [
      "C:\\Users\\zraba\\anaconda3\\Lib\\site-packages\\xgboost\\sklearn.py:835: UserWarning: `early_stopping_rounds` in `fit` method is deprecated for better compatibility with scikit-learn, use `early_stopping_rounds` in constructor or`set_params` instead.\n",
      "  warnings.warn(\n"
     ]
    },
    {
     "name": "stdout",
     "output_type": "stream",
     "text": [
      "| \u001b[39m45       \u001b[39m | \u001b[39m-5.216e+0\u001b[39m | \u001b[39m0.5      \u001b[39m | \u001b[39m1.0      \u001b[39m | \u001b[39m0.01     \u001b[39m | \u001b[39m8.229    \u001b[39m | \u001b[39m8.089    \u001b[39m | \u001b[39m949.6    \u001b[39m | \u001b[39m0.5      \u001b[39m |\n"
     ]
    },
    {
     "name": "stderr",
     "output_type": "stream",
     "text": [
      "C:\\Users\\zraba\\anaconda3\\Lib\\site-packages\\xgboost\\sklearn.py:835: UserWarning: `early_stopping_rounds` in `fit` method is deprecated for better compatibility with scikit-learn, use `early_stopping_rounds` in constructor or`set_params` instead.\n",
      "  warnings.warn(\n"
     ]
    },
    {
     "name": "stdout",
     "output_type": "stream",
     "text": [
      "| \u001b[39m46       \u001b[39m | \u001b[39m-4.814e+0\u001b[39m | \u001b[39m1.0      \u001b[39m | \u001b[39m0.0      \u001b[39m | \u001b[39m0.01     \u001b[39m | \u001b[39m12.0     \u001b[39m | \u001b[39m5.71     \u001b[39m | \u001b[39m943.3    \u001b[39m | \u001b[39m0.5      \u001b[39m |\n"
     ]
    },
    {
     "name": "stderr",
     "output_type": "stream",
     "text": [
      "C:\\Users\\zraba\\anaconda3\\Lib\\site-packages\\xgboost\\sklearn.py:835: UserWarning: `early_stopping_rounds` in `fit` method is deprecated for better compatibility with scikit-learn, use `early_stopping_rounds` in constructor or`set_params` instead.\n",
      "  warnings.warn(\n"
     ]
    },
    {
     "name": "stdout",
     "output_type": "stream",
     "text": [
      "| \u001b[39m47       \u001b[39m | \u001b[39m-4.778e+0\u001b[39m | \u001b[39m1.0      \u001b[39m | \u001b[39m1.0      \u001b[39m | \u001b[39m0.01     \u001b[39m | \u001b[39m12.0     \u001b[39m | \u001b[39m6.899    \u001b[39m | \u001b[39m941.2    \u001b[39m | \u001b[39m0.5      \u001b[39m |\n"
     ]
    },
    {
     "name": "stderr",
     "output_type": "stream",
     "text": [
      "C:\\Users\\zraba\\anaconda3\\Lib\\site-packages\\xgboost\\sklearn.py:835: UserWarning: `early_stopping_rounds` in `fit` method is deprecated for better compatibility with scikit-learn, use `early_stopping_rounds` in constructor or`set_params` instead.\n",
      "  warnings.warn(\n"
     ]
    },
    {
     "name": "stdout",
     "output_type": "stream",
     "text": [
      "| \u001b[39m48       \u001b[39m | \u001b[39m-5.661e+0\u001b[39m | \u001b[39m0.5      \u001b[39m | \u001b[39m0.0      \u001b[39m | \u001b[39m0.01     \u001b[39m | \u001b[39m12.0     \u001b[39m | \u001b[39m4.562    \u001b[39m | \u001b[39m940.6    \u001b[39m | \u001b[39m1.0      \u001b[39m |\n"
     ]
    },
    {
     "name": "stderr",
     "output_type": "stream",
     "text": [
      "C:\\Users\\zraba\\anaconda3\\Lib\\site-packages\\xgboost\\sklearn.py:835: UserWarning: `early_stopping_rounds` in `fit` method is deprecated for better compatibility with scikit-learn, use `early_stopping_rounds` in constructor or`set_params` instead.\n",
      "  warnings.warn(\n"
     ]
    },
    {
     "name": "stdout",
     "output_type": "stream",
     "text": [
      "| \u001b[39m49       \u001b[39m | \u001b[39m-5.754e+0\u001b[39m | \u001b[39m0.5704   \u001b[39m | \u001b[39m0.3366   \u001b[39m | \u001b[39m0.2859   \u001b[39m | \u001b[39m7.036    \u001b[39m | \u001b[39m3.099    \u001b[39m | \u001b[39m359.6    \u001b[39m | \u001b[39m0.7138   \u001b[39m |\n"
     ]
    },
    {
     "name": "stderr",
     "output_type": "stream",
     "text": [
      "C:\\Users\\zraba\\anaconda3\\Lib\\site-packages\\xgboost\\sklearn.py:835: UserWarning: `early_stopping_rounds` in `fit` method is deprecated for better compatibility with scikit-learn, use `early_stopping_rounds` in constructor or`set_params` instead.\n",
      "  warnings.warn(\n"
     ]
    },
    {
     "name": "stdout",
     "output_type": "stream",
     "text": [
      "| \u001b[39m50       \u001b[39m | \u001b[39m-5.148e+0\u001b[39m | \u001b[39m1.0      \u001b[39m | \u001b[39m0.0      \u001b[39m | \u001b[39m0.3      \u001b[39m | \u001b[39m12.0     \u001b[39m | \u001b[39m8.786    \u001b[39m | \u001b[39m941.7    \u001b[39m | \u001b[39m1.0      \u001b[39m |\n",
      "| \u001b[39m51       \u001b[39m | \u001b[39m-5.93e+04\u001b[39m | \u001b[39m1.0      \u001b[39m | \u001b[39m0.0      \u001b[39m | \u001b[39m0.3      \u001b[39m | \u001b[39m6.764    \u001b[39m | \u001b[39m4.025    \u001b[39m | \u001b[39m956.1    \u001b[39m | \u001b[39m0.5      \u001b[39m |\n"
     ]
    },
    {
     "name": "stderr",
     "output_type": "stream",
     "text": [
      "C:\\Users\\zraba\\anaconda3\\Lib\\site-packages\\xgboost\\sklearn.py:835: UserWarning: `early_stopping_rounds` in `fit` method is deprecated for better compatibility with scikit-learn, use `early_stopping_rounds` in constructor or`set_params` instead.\n",
      "  warnings.warn(\n",
      "C:\\Users\\zraba\\anaconda3\\Lib\\site-packages\\xgboost\\sklearn.py:835: UserWarning: `early_stopping_rounds` in `fit` method is deprecated for better compatibility with scikit-learn, use `early_stopping_rounds` in constructor or`set_params` instead.\n",
      "  warnings.warn(\n",
      "C:\\Users\\zraba\\anaconda3\\Lib\\site-packages\\xgboost\\sklearn.py:835: UserWarning: `early_stopping_rounds` in `fit` method is deprecated for better compatibility with scikit-learn, use `early_stopping_rounds` in constructor or`set_params` instead.\n",
      "  warnings.warn(\n"
     ]
    },
    {
     "name": "stdout",
     "output_type": "stream",
     "text": [
      "| \u001b[39m52       \u001b[39m | \u001b[39m-6.061e+0\u001b[39m | \u001b[39m1.0      \u001b[39m | \u001b[39m1.0      \u001b[39m | \u001b[39m0.3      \u001b[39m | \u001b[39m10.48    \u001b[39m | \u001b[39m6.562    \u001b[39m | \u001b[39m942.8    \u001b[39m | \u001b[39m0.5      \u001b[39m |\n",
      "| \u001b[39m53       \u001b[39m | \u001b[39m-4.839e+0\u001b[39m | \u001b[39m1.0      \u001b[39m | \u001b[39m0.0      \u001b[39m | \u001b[39m0.01     \u001b[39m | \u001b[39m9.708    \u001b[39m | \u001b[39m6.653    \u001b[39m | \u001b[39m947.5    \u001b[39m | \u001b[39m0.5      \u001b[39m |\n"
     ]
    },
    {
     "name": "stderr",
     "output_type": "stream",
     "text": [
      "C:\\Users\\zraba\\anaconda3\\Lib\\site-packages\\xgboost\\sklearn.py:835: UserWarning: `early_stopping_rounds` in `fit` method is deprecated for better compatibility with scikit-learn, use `early_stopping_rounds` in constructor or`set_params` instead.\n",
      "  warnings.warn(\n"
     ]
    },
    {
     "name": "stdout",
     "output_type": "stream",
     "text": [
      "| \u001b[39m54       \u001b[39m | \u001b[39m-4.773e+0\u001b[39m | \u001b[39m1.0      \u001b[39m | \u001b[39m0.0      \u001b[39m | \u001b[39m0.01     \u001b[39m | \u001b[39m12.0     \u001b[39m | \u001b[39m7.102    \u001b[39m | \u001b[39m945.3    \u001b[39m | \u001b[39m0.5      \u001b[39m |\n"
     ]
    },
    {
     "name": "stderr",
     "output_type": "stream",
     "text": [
      "C:\\Users\\zraba\\anaconda3\\Lib\\site-packages\\xgboost\\sklearn.py:835: UserWarning: `early_stopping_rounds` in `fit` method is deprecated for better compatibility with scikit-learn, use `early_stopping_rounds` in constructor or`set_params` instead.\n",
      "  warnings.warn(\n"
     ]
    },
    {
     "name": "stdout",
     "output_type": "stream",
     "text": [
      "| \u001b[39m55       \u001b[39m | \u001b[39m-5.452e+0\u001b[39m | \u001b[39m0.5      \u001b[39m | \u001b[39m1.0      \u001b[39m | \u001b[39m0.01     \u001b[39m | \u001b[39m12.0     \u001b[39m | \u001b[39m8.789    \u001b[39m | \u001b[39m945.5    \u001b[39m | \u001b[39m1.0      \u001b[39m |\n"
     ]
    },
    {
     "name": "stderr",
     "output_type": "stream",
     "text": [
      "C:\\Users\\zraba\\anaconda3\\Lib\\site-packages\\xgboost\\sklearn.py:835: UserWarning: `early_stopping_rounds` in `fit` method is deprecated for better compatibility with scikit-learn, use `early_stopping_rounds` in constructor or`set_params` instead.\n",
      "  warnings.warn(\n"
     ]
    },
    {
     "name": "stdout",
     "output_type": "stream",
     "text": [
      "| \u001b[39m56       \u001b[39m | \u001b[39m-6.759e+0\u001b[39m | \u001b[39m0.5      \u001b[39m | \u001b[39m1.0      \u001b[39m | \u001b[39m0.3      \u001b[39m | \u001b[39m9.478    \u001b[39m | \u001b[39m5.82     \u001b[39m | \u001b[39m949.6    \u001b[39m | \u001b[39m1.0      \u001b[39m |\n"
     ]
    },
    {
     "name": "stderr",
     "output_type": "stream",
     "text": [
      "C:\\Users\\zraba\\anaconda3\\Lib\\site-packages\\xgboost\\sklearn.py:835: UserWarning: `early_stopping_rounds` in `fit` method is deprecated for better compatibility with scikit-learn, use `early_stopping_rounds` in constructor or`set_params` instead.\n",
      "  warnings.warn(\n"
     ]
    },
    {
     "name": "stdout",
     "output_type": "stream",
     "text": [
      "| \u001b[39m57       \u001b[39m | \u001b[39m-4.823e+0\u001b[39m | \u001b[39m1.0      \u001b[39m | \u001b[39m0.163    \u001b[39m | \u001b[39m0.01     \u001b[39m | \u001b[39m10.69    \u001b[39m | \u001b[39m7.191    \u001b[39m | \u001b[39m946.3    \u001b[39m | \u001b[39m0.5      \u001b[39m |\n"
     ]
    },
    {
     "name": "stderr",
     "output_type": "stream",
     "text": [
      "C:\\Users\\zraba\\anaconda3\\Lib\\site-packages\\xgboost\\sklearn.py:835: UserWarning: `early_stopping_rounds` in `fit` method is deprecated for better compatibility with scikit-learn, use `early_stopping_rounds` in constructor or`set_params` instead.\n",
      "  warnings.warn(\n"
     ]
    },
    {
     "name": "stdout",
     "output_type": "stream",
     "text": [
      "| \u001b[39m58       \u001b[39m | \u001b[39m-4.804e+0\u001b[39m | \u001b[39m1.0      \u001b[39m | \u001b[39m0.4605   \u001b[39m | \u001b[39m0.01     \u001b[39m | \u001b[39m10.16    \u001b[39m | \u001b[39m4.291    \u001b[39m | \u001b[39m954.1    \u001b[39m | \u001b[39m0.5058   \u001b[39m |\n"
     ]
    },
    {
     "name": "stderr",
     "output_type": "stream",
     "text": [
      "C:\\Users\\zraba\\anaconda3\\Lib\\site-packages\\xgboost\\sklearn.py:835: UserWarning: `early_stopping_rounds` in `fit` method is deprecated for better compatibility with scikit-learn, use `early_stopping_rounds` in constructor or`set_params` instead.\n",
      "  warnings.warn(\n"
     ]
    },
    {
     "name": "stdout",
     "output_type": "stream",
     "text": [
      "| \u001b[39m59       \u001b[39m | \u001b[39m-4.706e+0\u001b[39m | \u001b[39m1.0      \u001b[39m | \u001b[39m0.06209  \u001b[39m | \u001b[39m0.01     \u001b[39m | \u001b[39m9.957    \u001b[39m | \u001b[39m3.704    \u001b[39m | \u001b[39m956.6    \u001b[39m | \u001b[39m0.5      \u001b[39m |\n"
     ]
    },
    {
     "name": "stderr",
     "output_type": "stream",
     "text": [
      "C:\\Users\\zraba\\anaconda3\\Lib\\site-packages\\xgboost\\sklearn.py:835: UserWarning: `early_stopping_rounds` in `fit` method is deprecated for better compatibility with scikit-learn, use `early_stopping_rounds` in constructor or`set_params` instead.\n",
      "  warnings.warn(\n"
     ]
    },
    {
     "name": "stdout",
     "output_type": "stream",
     "text": [
      "| \u001b[39m60       \u001b[39m | \u001b[39m-4.951e+0\u001b[39m | \u001b[39m1.0      \u001b[39m | \u001b[39m0.0      \u001b[39m | \u001b[39m0.01     \u001b[39m | \u001b[39m9.632    \u001b[39m | \u001b[39m3.302    \u001b[39m | \u001b[39m955.0    \u001b[39m | \u001b[39m1.0      \u001b[39m |\n",
      "=============================================================================================================\n",
      "Best Parameters from Bayesian Optimization: {'colsample_bytree': 1.0, 'gamma': 0.0, 'learning_rate': 0.01, 'max_depth': 10, 'min_child_weight': 3, 'n_estimators': 955, 'subsample': 0.5}\n",
      "Validation MSE with Best Parameters: 46095.602666292485\n"
     ]
    }
   ],
   "source": [
    "from bayes_opt import BayesianOptimization\n",
    "import xgboost as xgb\n",
    "from sklearn.metrics import mean_squared_error\n",
    "\n",
    "# Define the function to optimize\n",
    "def xgb_evaluate(max_depth, gamma, min_child_weight, subsample, colsample_bytree, learning_rate, n_estimators):\n",
    "    params = {\n",
    "        'max_depth': int(max_depth),\n",
    "        'gamma': gamma,\n",
    "        'min_child_weight': int(min_child_weight),\n",
    "        'subsample': subsample,\n",
    "        'colsample_bytree': colsample_bytree,\n",
    "        'learning_rate': learning_rate,\n",
    "        'n_estimators': int(n_estimators),\n",
    "        'objective': 'reg:squarederror',\n",
    "        'eval_metric': 'rmse',\n",
    "        'seed': 42\n",
    "    }\n",
    "    model = xgb.XGBRegressor(**params)\n",
    "    model.fit(X_train, y_train, eval_set=[(X_val, y_val)], verbose=False, early_stopping_rounds=10)\n",
    "    val_predictions = model.predict(X_val)\n",
    "    return -mean_squared_error(y_val, val_predictions)\n",
    "\n",
    "# Define the hyperparameter space\n",
    "xgb_bo = BayesianOptimization(\n",
    "    xgb_evaluate,\n",
    "    {\n",
    "        'max_depth': (3, 12),\n",
    "        'gamma': (0, 1),\n",
    "        'min_child_weight': (1, 10),\n",
    "        'subsample': (0.5, 1),\n",
    "        'colsample_bytree': (0.5, 1),\n",
    "        'learning_rate': (0.01, 0.3),\n",
    "        'n_estimators': (100, 1000)\n",
    "    },\n",
    "    random_state=42\n",
    ")\n",
    "\n",
    "# Optimize\n",
    "xgb_bo.maximize(init_points=10, n_iter=50)\n",
    "\n",
    "# Extract the best parameters\n",
    "best_params = xgb_bo.max['params']\n",
    "best_params['max_depth'] = int(best_params['max_depth'])\n",
    "best_params['min_child_weight'] = int(best_params['min_child_weight'])\n",
    "best_params['n_estimators'] = int(best_params['n_estimators'])\n",
    "\n",
    "print(f\"Best Parameters from Bayesian Optimization: {best_params}\")\n",
    "\n",
    "# Train the final model with the best parameters\n",
    "best_xgb = xgb.XGBRegressor(**best_params)\n",
    "best_xgb.fit(X_train, y_train)\n",
    "\n",
    "# Evaluate on the validation set\n",
    "val_predictions = best_xgb.predict(X_val)\n",
    "val_mse = mean_squared_error(y_val, val_predictions)\n",
    "print(f\"Validation MSE with Best Parameters: {val_mse}\")\n"
   ]
  },
  {
   "cell_type": "markdown",
   "id": "8eb5ce03",
   "metadata": {},
   "source": [
    "### Conclusion\n",
    "\n",
    "After performing Bayesian Optimization, the best set of hyperparameters was identified, leading to the training of a final XGBoost model. The validation MSE with these optimized parameters is displayed above, indicating the effectiveness of the tuning process. The optimized model is expected to provide improved predictions compared to a model with default or manually selected hyperparameters. This approach ensures that the model is fine-tuned for the specific dataset, potentially enhancing its performance on unseen data.\n"
   ]
  },
  {
   "cell_type": "markdown",
   "id": "79589bbd",
   "metadata": {},
   "source": [
    "## Model Evaluation and Error Analysis\n",
    "\n",
    "### 4.1 Bias Calculation\n",
    "\n",
    "In this section, I calculate the bias of the XGBoost model by comparing the Mean Squared Error (MSE) on the training and validation sets. This helps in understanding how well the model is performing on both the training data and unseen data (validation set).\n"
   ]
  },
  {
   "cell_type": "code",
   "execution_count": 5,
   "id": "82cf5398",
   "metadata": {},
   "outputs": [
    {
     "name": "stdout",
     "output_type": "stream",
     "text": [
      "Training MSE (Bias): 2964.040624793016\n",
      "Validation MSE: 46095.602666292485\n"
     ]
    }
   ],
   "source": [
    "# Calculate the training error (bias) on the training set\n",
    "train_predictions = best_xgb.predict(X_train)\n",
    "train_mse = mean_squared_error(y_train, train_predictions)\n",
    "print(f\"Training MSE (Bias): {train_mse}\")\n",
    "\n",
    "# Calculate the validation error (bias) on the validation set\n",
    "val_predictions = best_xgb.predict(X_val)\n",
    "val_mse = mean_squared_error(y_val, val_predictions)\n",
    "print(f\"Validation MSE: {val_mse}\")\n"
   ]
  },
  {
   "cell_type": "markdown",
   "id": "ed41c27c",
   "metadata": {},
   "source": [
    "### Conclusion\n",
    "\n",
    "The bias calculation reveals a Training MSE of approximately 2964.04, indicating that the model performs very well on the training data. However, the Validation MSE is significantly higher, at approximately 46095.60. This disparity suggests that the model is overfitting the training data, capturing noise and patterns specific to the training set that do not generalize well to unseen data. This result highlights the importance of further tuning or applying regularization techniques to improve the model's generalization capability.\n"
   ]
  },
  {
   "cell_type": "markdown",
   "id": "035741a0",
   "metadata": {},
   "source": [
    "### 4.2 Learning Curve\n",
    "\n",
    "The learning curve is plotted to visualize the model's performance as the training size increases. It shows how the training and validation errors change with varying amounts of training data, providing insights into whether the model is overfitting or underfitting.\n"
   ]
  },
  {
   "cell_type": "code",
   "execution_count": 6,
   "id": "9b74259b",
   "metadata": {
    "scrolled": true
   },
   "outputs": [
    {
     "data": {
      "image/png": "[encoded data removed]",
      "text/plain": [
       "<Figure size 1000x600 with 1 Axes>"
      ]
     },
     "metadata": {},
     "output_type": "display_data"
    }
   ],
   "source": [
    "# Plot the learning curve\n",
    "train_sizes, train_scores, val_scores = learning_curve(\n",
    "    best_xgb, X_train, y_train, cv=5, scoring='neg_mean_squared_error', n_jobs=-1, train_sizes=np.linspace(0.1, 1.0, 10)\n",
    ")\n",
    "\n",
    "# Calculate the mean and standard deviation of training and validation scores\n",
    "train_scores_mean = -np.mean(train_scores, axis=1)\n",
    "train_scores_std = np.std(train_scores, axis=1)\n",
    "val_scores_mean = -np.mean(val_scores, axis=1)\n",
    "val_scores_std = np.std(val_scores, axis=1)\n",
    "\n",
    "# Plot learning curve\n",
    "plt.figure(figsize=(10, 6))\n",
    "plt.plot(train_sizes, train_scores_mean, 'o-', color='r', label='Training score')\n",
    "plt.plot(train_sizes, val_scores_mean, 'o-', color='g', label='Validation score')\n",
    "plt.fill_between(train_sizes, train_scores_mean - train_scores_std, train_scores_mean + train_scores_std, alpha=0.1, color='r')\n",
    "plt.fill_between(train_sizes, val_scores_mean - val_scores_std, val_scores_mean + val_scores_std, alpha=0.1, color='g')\n",
    "plt.title('Learning Curve - XGBoost')\n",
    "plt.xlabel('Training Size')\n",
    "plt.ylabel('Mean Squared Error')\n",
    "plt.legend(loc='best')\n",
    "plt.grid(True)\n",
    "plt.show()\n"
   ]
  },
  {
   "cell_type": "markdown",
   "id": "1f31f7dc",
   "metadata": {},
   "source": [
    "### Learning Curve Analysis - XGBoost\n",
    "\n",
    "The learning curve for the XGBoost model reveals distinct patterns in the training and validation errors as the training size increases. The training error remains consistently low, indicating that the model fits the training data very well. However, the validation error starts high and gradually decreases as more data is added, eventually plateauing but still remaining significantly higher than the training error.\n",
    "\n",
    "This gap between the training and validation errors suggests that the model is likely overfitting, capturing complex patterns in the training data that do not generalize well to unseen data. Although the validation error improves with more data, the persistent gap indicates that additional data alone may not be sufficient to resolve the overfitting issue. Further regularization or model tuning may be necessary to improve generalization and reduce the validation error.\n"
   ]
  },
  {
   "cell_type": "markdown",
   "id": "5015aec2",
   "metadata": {},
   "source": [
    "## Feature Importance Analysis using XGBoost’s Built-in Feature Importance\n",
    "\n",
    "XGBoost provides built-in feature importance metrics based on how often a feature is used to split the data across all trees in the model. This method offers insights into which features are most influential in the model's decision-making process.\n",
    "\n",
    "In this section, we analyze the feature importance as determined by XGBoost, helping us understand the key drivers of the model's predictions.\n"
   ]
  },
  {
   "cell_type": "code",
   "execution_count": 7,
   "id": "fb358ad9",
   "metadata": {},
   "outputs": [
    {
     "data": {
      "text/plain": [
       "<Figure size 1000x800 with 0 Axes>"
      ]
     },
     "metadata": {},
     "output_type": "display_data"
    },
    {
     "data": {
      "image/png": "[encoded data removed]",
      "text/plain": [
       "<Figure size 640x480 with 1 Axes>"
      ]
     },
     "metadata": {},
     "output_type": "display_data"
    }
   ],
   "source": [
    "# Plot feature importance\n",
    "plt.figure(figsize=(10, 8))\n",
    "xgb.plot_importance(best_xgb, max_num_features=10, importance_type='weight')\n",
    "plt.title('XGBoost Feature Importance')\n",
    "plt.show()\n"
   ]
  },
  {
   "cell_type": "markdown",
   "id": "739fee6b",
   "metadata": {},
   "source": [
    "### Conclusion\n",
    "\n",
    "The feature importance analysis reveals that `Temperature(C)` and `Hour` are the most significant features in the XGBoost model, contributing heavily to the model's predictions. These are followed by `Humidity(%)`, `Wind speed (m/s)`, and `Visibility (10m)`, which also play important roles. Lesser importance is attributed to features such as `Date_month` and `Rainfall(mm)`, indicating that they have less influence on the model's output. Understanding these key features can provide valuable insights into the factors that most strongly impact the target variable, guiding further model refinement and feature engineering efforts.\n"
   ]
  },
  {
   "cell_type": "markdown",
   "id": "fb70b13d",
   "metadata": {},
   "source": [
    "## Feature Importance using Permutation Importance\n",
    "\n",
    "Permutation importance is another method to determine the importance of a feature. By shuffling the values of a feature and observing the increase in model error, we can assess how much the model depends on that feature. This method is particularly useful because it does not rely on the structure of the model and can be applied to any fitted estimator.\n",
    "\n",
    "In this section, I perform permutation importance to gain further insights into the model's reliance on different features.\n",
    "``\n"
   ]
  },
  {
   "cell_type": "code",
   "execution_count": 8,
   "id": "7ae13941",
   "metadata": {
    "scrolled": true
   },
   "outputs": [
    {
     "data": {
      "image/png": "[encoded data removed]",
      "text/plain": [
       "<Figure size 1000x800 with 1 Axes>"
      ]
     },
     "metadata": {},
     "output_type": "display_data"
    }
   ],
   "source": [
    "# Perform permutation importance\n",
    "perm_importance = permutation_importance(best_xgb, X_val, y_val, n_repeats=10, random_state=42, n_jobs=-1)\n",
    "\n",
    "# Plot permutation importance\n",
    "sorted_idx = perm_importance.importances_mean.argsort()\n",
    "plt.figure(figsize=(10, 8))\n",
    "plt.barh(X_val.columns[sorted_idx], perm_importance.importances_mean[sorted_idx])\n",
    "plt.xlabel(\"Permutation Importance\")\n",
    "plt.title(\"Permutation Importance (XGBoost)\")\n",
    "plt.show()\n"
   ]
  },
  {
   "cell_type": "markdown",
   "id": "f3faeaed",
   "metadata": {},
   "source": [
    "### Conclusion\n",
    "\n",
    "The permutation importance analysis provides further insights into the features that the XGBoost model relies on most heavily for its predictions. Consistent with the previous feature importance analysis, `Hour` and `Temperature(C)` emerge as the top contributing features. These are followed by `Functioning Day_Yes` and `Solar Radiation (MJ/m2)`, which also play significant roles. The permutation importance approach confirms the model's dependence on these key features, emphasizing their critical influence on prediction accuracy. On the other hand, features such as `Seasons_Spring`, `Date_year`, and `Snowfall (cm)` show minimal importance, suggesting they have a limited impact on the model's decision-making process. This analysis underscores the importance of focusing on the most influential features to potentially enhance model performance.\n"
   ]
  },
  {
   "cell_type": "markdown",
   "id": "aa326e7c",
   "metadata": {},
   "source": [
    "### Cross-Validation for XGBoost\n",
    "\n",
    "To ensure the XGBoost model's performance is consistent and generalizes well to unseen data, I perform 5-fold cross-validation. This helps to evaluate the model's stability and robustness.\n"
   ]
  },
  {
   "cell_type": "code",
   "execution_count": 9,
   "id": "17de20fc",
   "metadata": {
    "scrolled": true
   },
   "outputs": [
    {
     "name": "stdout",
     "output_type": "stream",
     "text": [
      "XGBoost Cross-Validation MSE Scores: [45425.13209197 45258.39501597 48587.94050428 44807.76804212\n",
      " 55423.78606005]\n",
      "Mean CV MSE: 47900.60434287776\n",
      "Standard Deviation of CV MSE: 3993.6340223881784\n"
     ]
    }
   ],
   "source": [
    "xgb_cv_scores = cross_val_score(best_xgb, X_train, y_train, cv=5, scoring='neg_mean_squared_error')\n",
    "\n",
    "# Convert negative MSE to positive\n",
    "xgb_cv_scores = -xgb_cv_scores\n",
    "\n",
    "print(f\"XGBoost Cross-Validation MSE Scores: {xgb_cv_scores}\")\n",
    "print(f\"Mean CV MSE: {xgb_cv_scores.mean()}\")\n",
    "print(f\"Standard Deviation of CV MSE: {xgb_cv_scores.std()}\")\n"
   ]
  },
  {
   "cell_type": "markdown",
   "id": "1b7d5372",
   "metadata": {},
   "source": [
    "### Conclusion\n",
    "\n",
    "The cross-validation results for the XGBoost model show that the Mean Squared Error (MSE) scores across the folds are relatively close, with a mean MSE of approximately 47,900.60 and a standard deviation of about 3,993.63. This low standard deviation indicates that the model's performance is consistent across different subsets of the training data, suggesting good generalization to unseen data. The consistent MSE scores across the folds confirm the model's robustness and reliability, making it a strong candidate for deployment.\n"
   ]
  },
  {
   "cell_type": "markdown",
   "id": "7ed4dc80",
   "metadata": {},
   "source": [
    "### Final Conclusion\n",
    "\n",
    "Throughout this project, I explored the performance of three different models—Linear Regression, Random Forest, and XGBoost. The goal was to see how each model could improve predictions on the given dataset.\n",
    "\n",
    "I started with **Linear Regression**, which is a basic model that assumes a straight-line relationship between the features and the target variable. This model gave me a baseline with a Mean Squared Error (MSE) of around 198,910.64. While the results were okay, it became clear that the linear model couldn’t fully capture the complexities in the data. Even after trying variations like Ridge and Lasso regression, the performance didn’t improve much, showing the limitations of these linear models.\n",
    "\n",
    "Next, I moved on to **Random Forest**, which is more advanced and can handle more complex relationships in the data. This model significantly reduced the MSE to about 54,113.72. The Random Forest model did a better job at predicting because it can consider interactions between features and isn’t limited to just linear relationships. However, I noticed that the model might be overfitting since the training error was much lower than the validation error. This means that while the model performed better, it might still be too closely fitted to the training data.\n",
    "\n",
    "Finally, I tried **XGBoost**, which is a powerful model known for its ability to handle complex data well. After tuning the hyperparameters, the XGBoost model provided the best results, with a validation MSE of around 46,095.60. The cross-validation scores were consistent, and the feature importance analysis showed that XGBoost was effectively using the most relevant features to make predictions. Despite some concerns about overfitting, XGBoost outperformed both Random Forest and Linear Regression, making it the best model I tested.\n",
    "\n",
    "Overall, moving from Linear Regression to XGBoost showed a clear improvement in prediction accuracy. Each step helped me better capture the patterns in the data, especially as I used more complex models. This process taught me the importance of choosing the right model and tuning it properly to get the best results.\n"
   ]
  },
  {
   "cell_type": "markdown",
   "id": "b89d490d",
   "metadata": {},
   "source": [
    "## Making Predictions and Saving Results\n",
    "\n",
    "After training and evaluating the model, the final step is to use the trained XGBoost model to make predictions on the test dataset. These predictions are then saved to a CSV file, which can be submitted or further analyzed.\n"
   ]
  },
  {
   "cell_type": "code",
   "execution_count": 10,
   "id": "57f93d51",
   "metadata": {},
   "outputs": [],
   "source": [
    "# Ensure that the test data has the same features as the training data\n",
    "X_test = test_data[X_train.columns]\n",
    "\n",
    "# Make predictions on the test data using the trained XGBoost model\n",
    "test_predictions = best_xgb.predict(X_test)\n",
    "\n",
    "# Prepare the submission DataFrame\n",
    "submission = pd.DataFrame(data=test_predictions, columns=[\"Predicted\"])\n",
    "submission.reset_index(inplace=True)\n",
    "submission = submission.rename(columns={'index': 'Id'})\n",
    "\n",
    "# Save the predictions to a CSV file with a unique filename\n",
    "timestamp = time.strftime(\"%Y%m%d-%H%M%S\", time.localtime())\n",
    "submission.to_csv(f\"xgboost_predictions_{timestamp}.csv\", index=False)\n"
   ]
  }
 ],
 "metadata": {
  "kernelspec": {
   "display_name": "Python 3 (ipykernel)",
   "language": "python",
   "name": "python3"
  },
  "language_info": {
   "codemirror_mode": {
    "name": "ipython",
    "version": 3
   },
   "file_extension": ".py",
   "mimetype": "text/x-python",
   "name": "python",
   "nbconvert_exporter": "python",
   "pygments_lexer": "ipython3",
   "version": "3.11.5"
  }
 },
 "nbformat": 4,
 "nbformat_minor": 5
}
